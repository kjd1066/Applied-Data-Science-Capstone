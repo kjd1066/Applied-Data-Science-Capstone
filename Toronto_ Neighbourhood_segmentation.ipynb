{
 "cells": [
  {
   "cell_type": "markdown",
   "metadata": {},
   "source": [
    "# Notebook to scrape Toronto Neighbourhoods"
   ]
  },
  {
   "cell_type": "code",
   "execution_count": 1,
   "metadata": {},
   "outputs": [],
   "source": [
    "from bs4 import BeautifulSoup # Library to scrape website\n",
    "#import urllib # Library for opening URLs\n",
    "import requests # library to handle requests\n",
    "import re #Library to handle RegEX\n",
    "import numpy as np # library to handle data in a vectorized manner\n",
    "import pandas as pd # library for data analsysis\n",
    "pd.set_option('display.max_columns', None)\n",
    "pd.set_option('display.max_rows', None)\n",
    "import json # library to handle JSON files"
   ]
  },
  {
   "cell_type": "markdown",
   "metadata": {},
   "source": [
    "## Extract the html page from Wikipedia"
   ]
  },
  {
   "cell_type": "code",
   "execution_count": 2,
   "metadata": {},
   "outputs": [],
   "source": [
    "URL_page = 'https://en.wikipedia.org/wiki/List_of_postal_codes_of_Canada:_M' #URL for Wikipedia page to scrape Toronto Neighbourhoods\n",
    "URL_request = requests.get(URL_page) # request library to get page from URL"
   ]
  },
  {
   "cell_type": "code",
   "execution_count": 3,
   "metadata": {},
   "outputs": [],
   "source": [
    "soup = BeautifulSoup(URL_request.content, 'html.parser') # BeautifulSoup library to for parsing html page\n",
    "name_table = soup.find('table', attrs={'class': 'wikitable'}) # extract html tag table with wikitable class\n",
    "#data_table = name_table.text.strip() # extract the whole table into text\n",
    "table_head = name_table.find_all('th') # find the table headers: ['Postcode', 'Borough', 'Neighbourhood']\n",
    "table_rows = name_table.find_all('tr') # find all the table rows"
   ]
  },
  {
   "cell_type": "markdown",
   "metadata": {},
   "source": [
    "## Populate the dataframe"
   ]
  },
  {
   "cell_type": "code",
   "execution_count": 4,
   "metadata": {},
   "outputs": [],
   "source": [
    "# define the column names\n",
    "column_names = []\n",
    "for th_elem in table_head: # <th> tag contains the table headers which we append to a columns list\n",
    "    column_names.append(th_elem.text.strip())"
   ]
  },
  {
   "cell_type": "code",
   "execution_count": 5,
   "metadata": {},
   "outputs": [],
   "source": [
    "# Populate the dataframe with table data\n",
    "\n",
    "#Table format\n",
    "'''\n",
    "<tr>\n",
    "    <td>Postcode value</td>\n",
    "    <td>Borough value</td>\n",
    "    <dt>Neighbourhood value</td>\n",
    "</tr>\n",
    "'''\n",
    "rows_list = []\n",
    "for tr_elem in table_rows[1:]: # for each <tr> tag found in the table\n",
    "    td_all = tr_elem.find_all('td') # find all <td> tags in each <tr> tag\n",
    "    data_row = [td_elem.text.strip() for td_elem in td_all]\n",
    "    rows_list.append(data_row)\n",
    "\n",
    "# instantiate the dataframe\n",
    "neighborhoods_df = pd.DataFrame(rows_list, columns=column_names)"
   ]
  },
  {
   "cell_type": "markdown",
   "metadata": {},
   "source": [
    "## Clean and prepare the dataframe"
   ]
  },
  {
   "cell_type": "code",
   "execution_count": 6,
   "metadata": {},
   "outputs": [],
   "source": [
    "# ignore cells with a borough that is Not assigned\n",
    "neighborhoods_df = neighborhoods_df.loc[neighborhoods_df['Borough'] != 'Not assigned']\n",
    "\n",
    "# groupby Postcode and combine Neighbourhood comma seperated\n",
    "neighborhoods_df = neighborhoods_df.groupby(['Postcode','Borough']).Neighbourhood.apply(lambda x: ', '.join(x)).reset_index()\n",
    "\n",
    "# If a cell has a borough but a Not assigned neighborhood, then the neighborhood will be the same as the borough\n",
    "neighborhoods_df['Neighbourhood'][neighborhoods_df['Neighbourhood'] == 'Not assigned'] = neighborhoods_df['Borough']"
   ]
  },
  {
   "cell_type": "code",
   "execution_count": 9,
   "metadata": {},
   "outputs": [
    {
     "data": {
      "text/plain": [
       "(103, 3)"
      ]
     },
     "execution_count": 9,
     "metadata": {},
     "output_type": "execute_result"
    }
   ],
   "source": [
    "neighborhoods_df.shape"
   ]
  },
  {
   "cell_type": "code",
   "execution_count": 1,
   "metadata": {},
   "outputs": [
    {
     "ename": "NameError",
     "evalue": "name 'neighborhoods_df' is not defined",
     "output_type": "error",
     "traceback": [
      "\u001b[0;31m---------------------------------------------------------------------------\u001b[0m",
      "\u001b[0;31mNameError\u001b[0m                                 Traceback (most recent call last)",
      "\u001b[0;32m<ipython-input-1-f29b392f3b0d>\u001b[0m in \u001b[0;36m<module>\u001b[0;34m\u001b[0m\n\u001b[0;32m----> 1\u001b[0;31m \u001b[0mneighborhoods_df\u001b[0m\u001b[0;34m.\u001b[0m\u001b[0mhead\u001b[0m\u001b[0;34m(\u001b[0m\u001b[0;34m)\u001b[0m\u001b[0;34m\u001b[0m\u001b[0;34m\u001b[0m\u001b[0m\n\u001b[0m",
      "\u001b[0;31mNameError\u001b[0m: name 'neighborhoods_df' is not defined"
     ]
    }
   ],
   "source": [
    "neighborhoods_df.head()"
   ]
  }
 ],
 "metadata": {
  "kernelspec": {
   "display_name": "Python 3",
   "language": "python",
   "name": "python3"
  },
  "language_info": {
   "codemirror_mode": {
    "name": "ipython",
    "version": 3
   },
   "file_extension": ".py",
   "mimetype": "text/x-python",
   "name": "python",
   "nbconvert_exporter": "python",
   "pygments_lexer": "ipython3",
   "version": "3.6.7"
  }
 },
 "nbformat": 4,
 "nbformat_minor": 4
}
